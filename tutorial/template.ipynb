{
 "cells": [
  {
   "cell_type": "markdown",
   "source": [
    "# Tutorial Title\n",
    "\n",
    "Your name\n",
    "\n",
    "Tutorial Date"
   ],
   "metadata": {}
  },
  {
   "cell_type": "markdown",
   "source": [
    "---"
   ],
   "metadata": {}
  },
  {
   "cell_type": "markdown",
   "source": [
    "# Overview\n",
    "If you have an introductory paragraph, lead with it here! Then continue into the required list of topics below:\n",
    "\n",
    "1. Ideally These should map approximately to your main sections of content\n",
    "2. Or each second-level, ##, header in this tutorial notebook\n",
    "3. Keep the size and scope of your seminar in check\n",
    "4. Let the attendee know up front the important concepts they'll be leaving with"
   ],
   "metadata": {}
  },
  {
   "cell_type": "markdown",
   "source": [
    "# Prerequisites\n",
    "\n",
    "What concepts, packages, or other background information does your audience need before learning your material? Is this tutorial a continuation in a seminar series? Link to past required or recommended tutorials here.\n",
    "\n",
    "Here is a table if you would like to present the prequisite concepts as helpful/necessary as such.\n",
    "\n",
    "|Concepts | Importance | Notes |\n",
    "| --- | --- | --- |\n",
    "| Pandas Part 1 | Necessary | - |\n",
    "\n",
    "- Time to learn: 50 minutes."
   ],
   "metadata": {}
  },
  {
   "cell_type": "markdown",
   "source": [
    "---"
   ],
   "metadata": {}
  },
  {
   "cell_type": "markdown",
   "source": [
    "# Imports"
   ],
   "metadata": {}
  },
  {
   "cell_type": "code",
   "execution_count": null,
   "source": [
    "import numpy\n",
    "import pandas"
   ],
   "outputs": [],
   "metadata": {}
  },
  {
   "cell_type": "markdown",
   "source": [
    "# Your first content section\n",
    "\n",
    "Be sure to make your examples and lessons targed to an atmospheric and oceanic science audience. We want to keep things as relevant and interesting as possible to our attendees. Keep in mind that many scientists will want to copy and paste code from these lessons, and then make small edits so it works for their particular specific analysis."
   ],
   "metadata": {}
  },
  {
   "cell_type": "code",
   "execution_count": null,
   "source": [
    "print(\"Hello world!\")"
   ],
   "outputs": [],
   "metadata": {}
  },
  {
   "cell_type": "markdown",
   "source": [
    "## A content subsection\n",
    "\n",
    "Consider having excercises interspersed where the audience can attempt some coding similar to what you have shown them so that they can test their understanding or just explore. Then show the answer. For instance:\n",
    "\n",
    "In the next cell can you have Python print out the sum of 1 and 1?"
   ],
   "metadata": {}
  },
  {
   "cell_type": "code",
   "execution_count": null,
   "source": [],
   "outputs": [],
   "metadata": {}
  },
  {
   "cell_type": "markdown",
   "source": [
    "Answer:"
   ],
   "metadata": {}
  },
  {
   "cell_type": "code",
   "execution_count": null,
   "source": [
    "print(1 + 1)"
   ],
   "outputs": [],
   "metadata": {}
  },
  {
   "cell_type": "markdown",
   "source": [
    "The amount of explanatory markdown you contain in your notebook is up to you. These tutorials are designed to be followed either with you live, or with you in the recording. Your commentary will complement the notebook skeleton regardless of the style of presentation you are most comfortable with."
   ],
   "metadata": {}
  },
  {
   "cell_type": "markdown",
   "source": [
    "---"
   ],
   "metadata": {}
  },
  {
   "cell_type": "markdown",
   "source": [
    "# Summary"
   ],
   "metadata": {}
  },
  {
   "cell_type": "markdown",
   "source": [
    "Conclude your presentation with a brief summary of the key pieces that were learned and how they tied to your objectives. Look to reiterate what the most important takeaways were. If you are coming back for a follow up tutorial seminar soon, let the audience know!\n",
    "\n",
    "## Resources and references\n",
    "List your citations and references as necessary. Give credit where credit is due. Also, feel free to link to relevant external material, further reading, documentation, etc. Only include what you're legally allowed: no copyright infringement or plagiarism\n",
    "\n",
    "Thank you for your contribution! And good luck on your tutorial!"
   ],
   "metadata": {}
  }
 ],
 "metadata": {
  "orig_nbformat": 4,
  "language_info": {
   "name": "python",
   "version": "3.8.10",
   "mimetype": "text/x-python",
   "codemirror_mode": {
    "name": "ipython",
    "version": 3
   },
   "pygments_lexer": "ipython3",
   "nbconvert_exporter": "python",
   "file_extension": ".py"
  },
  "kernelspec": {
   "name": "python3",
   "display_name": "Python 3.8.10 64-bit ('pythia_foundations_env': conda)"
  },
  "interpreter": {
   "hash": "ddd0450b500bc335b81d82d5f3b776ab95bf4ec9d95f207e1e1ee937cf97991e"
  }
 },
 "nbformat": 4,
 "nbformat_minor": 2
}

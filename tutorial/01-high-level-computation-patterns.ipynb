{
 "cells": [
  {
   "cell_type": "markdown",
   "id": "a349a0a5-eeb3-410a-b5d1-f472a8ca14b2",
   "metadata": {
    "slideshow": {
     "slide_type": "slide"
    },
    "tags": []
   },
   "source": [
    "# Thinking like Xarray : High-level computational patterns\n",
    "\n",
    "**Deepak Cherian, CGD**\n",
    "\n",
    "March 9, 2022\n",
    "\n",
    "-----\n",
    "\n",
    "This version includes additional material inserted during the live lecture."
   ]
  },
  {
   "cell_type": "markdown",
   "id": "623d5170-f32d-4643-9a59-c54768ee7185",
   "metadata": {
    "slideshow": {
     "slide_type": "slide"
    },
    "tags": []
   },
   "source": [
    "## Motivation / Learning goals\n",
    "\n",
    "From https://toolz.readthedocs.io/en/latest/control.html\n",
    "> The Toolz library contains dozens of patterns like map and groupby. Learning a core set (maybe a dozen) covers the vast majority of common programming tasks often done by hand.\n",
    "> A rich vocabulary of core control functions conveys the following benefits:\n",
    ">    - You identify new patterns\n",
    ">    - You make fewer errors in rote coding\n",
    ">    - You can depend on well tested and benchmarked implementations\n",
    "\n",
    "\n",
    "The same is true for xarray"
   ]
  },
  {
   "cell_type": "markdown",
   "id": "5f0cda65-cfaa-42ed-bd4d-f290c1e98bb3",
   "metadata": {
    "slideshow": {
     "slide_type": "subslide"
    },
    "tags": []
   },
   "source": [
    "## Xarray's high-level patterns\n",
    "\n",
    "\n",
    "Xarray allows you to leverage dataset metadata to write more readable analysis code. The metadata is stored with the data; not in your head.\n",
    "1. Dimension names: `dim=\"latitude\"` instead of `axis=0`\n",
    "2. Coordinate \"labels\": or axis tick labels. `data.sel(latitude=45)` instead of `data[10]`\n",
    "\n",
    "\n",
    "Xarray also provides high-level computational patterns that cover many data analysis tasks.\n",
    "\n",
    "1. `rolling` :\n",
    "   [Operate on rolling windows of your data e.g. running mean](https://xarray.pydata.org/en/stable/computation.html#rolling-window-operations)\n",
    "1. `coarsen` :\n",
    "   [Downsample your data](https://xarray.pydata.org/en/stable/computation.html#coarsen-large-arrays)\n",
    "1. `groupby` :\n",
    "   [Bin data in to groups and reduce](https://xarray.pydata.org/en/stable/groupby.html)\n",
    "1. `groupby_bins`: GroupBy after discretizing a numeric variable.\n",
    "1. `resample` :\n",
    "   [Groupby specialized for time axes. Either downsample or upsample your data.](https://xarray.pydata.org/en/stable/time-series.html#resampling-and-grouped-operations)\n",
    "1. `weighted` :\n",
    "   [Weight your data before reducing](https://xarray.pydata.org/en/stable/computation.html#weighted-array-reductions)\n"
   ]
  },
  {
   "cell_type": "markdown",
   "id": "71d8581c-1ffb-47a0-b992-12c3997f3586",
   "metadata": {
    "slideshow": {
     "slide_type": "slide"
    },
    "tags": []
   },
   "source": [
    "## Load example dataset"
   ]
  },
  {
   "cell_type": "code",
   "execution_count": null,
   "id": "02a9022f-1503-45a2-b57a-05ebfeb11d16",
   "metadata": {},
   "outputs": [],
   "source": [
    "import numpy as np\n",
    "import xarray as xr\n",
    "\n",
    "xr.set_options(keep_attrs=True, display_expand_data=False)\n",
    "\n",
    "da = xr.tutorial.load_dataset(\"air_temperature\", engine=\"netcdf4\").air\n",
    "monthly = da.resample(time=\"M\").mean()\n",
    "data = da.isel(time=0)\n",
    "data.plot()"
   ]
  },
  {
   "cell_type": "markdown",
   "id": "90832354-d0f3-4d83-a979-23b685203d3e",
   "metadata": {
    "slideshow": {
     "slide_type": "slide"
    },
    "tags": []
   },
   "source": [
    "-----\n",
    "\n",
    "## Concept: \"index space\" vs \"label space\"\n",
    "\n",
    "\n",
    "These are windowed operations with a window of a fixed size.\n",
    "\n",
    "- ``rolling``: sliding window operations e.g. running mean\n",
    "- ``coarsen``: decimating; reshaping"
   ]
  },
  {
   "cell_type": "code",
   "execution_count": null,
   "id": "480771d1-be88-46b9-8fd7-e516109c7720",
   "metadata": {},
   "outputs": [],
   "source": [
    "data"
   ]
  },
  {
   "cell_type": "code",
   "execution_count": null,
   "id": "98d88825-5fe8-4b78-a8ff-b822d6c3f905",
   "metadata": {
    "tags": []
   },
   "outputs": [],
   "source": [
    "# index space\n",
    "data[10, :]  # 10th element along the first axis; ¯\\_(ツ)_/¯"
   ]
  },
  {
   "cell_type": "code",
   "execution_count": null,
   "id": "4a31afa0-1757-46bb-a07b-63e23d22ee2b",
   "metadata": {
    "tags": []
   },
   "outputs": [],
   "source": [
    "# slightly better index space\n",
    "data.isel(lat=10)  # slightly better, 10th element in latitude"
   ]
  },
  {
   "cell_type": "code",
   "execution_count": null,
   "id": "1a7893fd-c473-4ae0-a657-3e67eeb2a846",
   "metadata": {
    "tags": []
   },
   "outputs": [],
   "source": [
    "# \"label\" space\n",
    "data.sel(lat=50)  # much better! lat=50°N"
   ]
  },
  {
   "cell_type": "code",
   "execution_count": null,
   "id": "843985f3-4271-4f82-8ede-92624cd912aa",
   "metadata": {
    "slideshow": {
     "slide_type": "subslide"
    },
    "tags": []
   },
   "outputs": [],
   "source": [
    "# What I wanted to do\n",
    "data.sel(lat=50)\n",
    "\n",
    "# What I had to do (if I wasn't using xarray)\n",
    "data[10, :]"
   ]
  },
  {
   "cell_type": "markdown",
   "id": "e9b80381-8a0d-4833-97fa-687bf693ca5a",
   "metadata": {},
   "source": [
    "-----\n",
    "\n",
    "## Xarray provides high-level patterns in both \"index space\" and  \"label space\"\n",
    "\n",
    "#### Index space\n",
    "1. `rolling` :\n",
    "   [Operate on rolling windows of your data e.g. running mean](https://xarray.pydata.org/en/stable/computation.html#rolling-window-operations)\n",
    "1. `coarsen` :\n",
    "   [Downsample your data](https://xarray.pydata.org/en/stable/computation.html#coarsen-large-arrays)\n",
    "   \n",
    "#### Label space\n",
    "1. `groupby` :\n",
    "   [Bin data in to groups and reduce](https://xarray.pydata.org/en/stable/groupby.html)\n",
    "1. `groupby_bins`: GroupBy after discretizing a numeric variable.\n",
    "1. `resample` :\n",
    "   [Groupby specialized for time axes. Either downsample or upsample your data.](https://xarray.pydata.org/en/stable/time-series.html#resampling-and-grouped-operations)"
   ]
  },
  {
   "cell_type": "markdown",
   "id": "339bdf89-c7da-4fca-89e1-a6655e65a6a3",
   "metadata": {
    "slideshow": {
     "slide_type": "subslide"
    },
    "tags": []
   },
   "source": [
    "----- \n",
    "\n",
    "## Index space: windows of fixed width\n",
    "\n",
    "\n",
    "### Sliding windows of fixed length: ``rolling``\n",
    "\n",
    "- returns object of same shape as input\n",
    "- pads with NaNs to make this happen\n",
    "- supports multiple dimensions\n",
    "\n",
    "Here's the dataset"
   ]
  },
  {
   "cell_type": "code",
   "execution_count": null,
   "id": "77570af3-0ba3-46ec-9645-2822884710e5",
   "metadata": {},
   "outputs": [],
   "source": [
    "data.plot()"
   ]
  },
  {
   "cell_type": "markdown",
   "id": "144e2cfd-fc84-45d5-8993-05c3a8190a0c",
   "metadata": {},
   "source": [
    "And now smoothed 5 point running mean in lat and lon"
   ]
  },
  {
   "cell_type": "code",
   "execution_count": null,
   "id": "6bb40a90-ddcb-48f1-bc3f-3cfef18ed1eb",
   "metadata": {},
   "outputs": [],
   "source": [
    "data.rolling(lat=5, lon=5, center=True).mean().plot()"
   ]
  },
  {
   "cell_type": "markdown",
   "id": "b88c116e-ad63-4fea-81a7-bcabc194dee5",
   "metadata": {
    "slideshow": {
     "slide_type": "subslide"
    },
    "tags": []
   },
   "source": [
    "#### Apply an existing numpy-only function with ``reduce``\n",
    "\n",
    "Tip: The `reduce` method expects a function that can receive and return plain arrays (e.g. numpy).  The `map` method expects a function that can receive and return Xarray objects.\n",
    "\n",
    "Here's an example function: `np.mean`"
   ]
  },
  {
   "cell_type": "markdown",
   "id": "9ef251aa-ce3c-4318-95ba-470568ebd967",
   "metadata": {},
   "source": [
    "**Exercise** Calculate the rolling mean in 5 point bins along both latitude and longitude using [`rolling(...).reduce`](https://docs.xarray.dev/en/stable/generated/xarray.core.rolling.DataArrayRolling.reduce.html)"
   ]
  },
  {
   "cell_type": "code",
   "execution_count": null,
   "id": "dc07db2f-31b0-4dfb-bbcc-6a33f8088884",
   "metadata": {},
   "outputs": [],
   "source": []
  },
  {
   "cell_type": "markdown",
   "id": "75397b3d-5961-4924-b688-23520b79aae8",
   "metadata": {},
   "source": [
    "**Answer:**"
   ]
  },
  {
   "cell_type": "code",
   "execution_count": null,
   "id": "a36cbf94-ed41-42c6-8ccf-9278927d395b",
   "metadata": {
    "jupyter": {
     "source_hidden": true
    },
    "slideshow": {
     "slide_type": "subslide"
    },
    "tags": []
   },
   "outputs": [],
   "source": [
    "# exactly equivalent to data.rolling(...).mean()\n",
    "data.rolling(lat=5, lon=5, center=True).reduce(np.ptp).plot()"
   ]
  },
  {
   "cell_type": "markdown",
   "id": "d0155b62-d08f-42c6-b467-1af73a7829c0",
   "metadata": {
    "slideshow": {
     "slide_type": "subslide"
    },
    "tags": []
   },
   "source": [
    "#### For more complicated analysis, construct a new array with a new dimension.\n",
    "Allows things like short-time fourier transform, spectrogram, windowed rolling etc."
   ]
  },
  {
   "cell_type": "code",
   "execution_count": null,
   "id": "d121b3cf-5ce3-481a-9d36-4242debb66f4",
   "metadata": {},
   "outputs": [],
   "source": [
    "simple = xr.DataArray(np.arange(10), dims=\"time\", coords={\"time\": np.arange(10)})\n",
    "simple"
   ]
  },
  {
   "cell_type": "code",
   "execution_count": null,
   "id": "01c78b48-2e02-4099-afa5-2490282a4541",
   "metadata": {},
   "outputs": [],
   "source": [
    "# adds a new dimension \"window\"\n",
    "simple.rolling(time=5, center=True).construct(\"window\")"
   ]
  },
  {
   "cell_type": "markdown",
   "id": "0a23b9a9-076b-472d-b7a6-57083566a32d",
   "metadata": {},
   "source": [
    "**Exercise** Calculate the 5 point running mean in time using `rolling.construct`"
   ]
  },
  {
   "cell_type": "code",
   "execution_count": null,
   "id": "4a041b0a-d070-4177-a15e-276d87f81d0b",
   "metadata": {},
   "outputs": [],
   "source": []
  },
  {
   "cell_type": "markdown",
   "id": "fcd19bd6-0564-4b0e-b3cb-b5c31f88b4da",
   "metadata": {},
   "source": [
    "**Answer**"
   ]
  },
  {
   "cell_type": "code",
   "execution_count": null,
   "id": "80c80728-440a-43d9-957c-65bf111e710d",
   "metadata": {
    "jupyter": {
     "source_hidden": true
    },
    "tags": []
   },
   "outputs": [],
   "source": [
    "(\n",
    "    simple\n",
    "    .rolling(time=5, center=True)\n",
    "    .construct(\"window\")\n",
    "    .mean(\"window\")\n",
    ")"
   ]
  },
  {
   "cell_type": "markdown",
   "id": "c81f95b1-e1c3-4b28-8b7f-9519c9316e3f",
   "metadata": {},
   "source": [
    "``construct`` is clever. \n",
    "1. It constructs a **view** of the original array, so it is memory-efficient. but you didn't have to know that.\n",
    "1. It does something sensible for dask arrays (though generally you want big chunksizes for the dimension you're sliding along).\n",
    "1. It also works with rolling along multiple dimensions!"
   ]
  },
  {
   "cell_type": "markdown",
   "id": "816929d5-6635-4e93-99fc-79b5729c5491",
   "metadata": {
    "tags": []
   },
   "source": [
    "#### Advanced: Another ``construct`` example\n",
    "\n",
    "This is a 2D rolling example; we need to provide two new dimension names"
   ]
  },
  {
   "cell_type": "code",
   "execution_count": null,
   "id": "4cbdafe1-adf4-4c80-97ed-50e4b35033af",
   "metadata": {},
   "outputs": [],
   "source": [
    "(\n",
    "    data\n",
    "    .rolling(lat=5, lon=5, center=True)\n",
    "    .construct(lat=\"lat_roll\", lon=\"lon_roll\")\n",
    ")"
   ]
  },
  {
   "cell_type": "markdown",
   "id": "f75d2a5f-31d0-4943-b70a-06e7c8a30601",
   "metadata": {
    "slideshow": {
     "slide_type": "subslide"
    },
    "tags": []
   },
   "source": [
    "-----\n",
    "\n",
    "### Block windows of fixed length: ``coarsen``\n",
    "\n",
    "For non-overlapping windows or \"blocks\" use ``coarsen``. The syntax is very similar to `rolling`. You will need to specify ``boundary`` if the length of the dimension is not a multiple of the block size"
   ]
  },
  {
   "cell_type": "code",
   "execution_count": null,
   "id": "e70c3264-c392-463e-94bb-e0d30c4d4e6b",
   "metadata": {},
   "outputs": [],
   "source": [
    "data"
   ]
  },
  {
   "cell_type": "code",
   "execution_count": null,
   "id": "7a543edc-f378-405c-90af-7e1441ee0c8f",
   "metadata": {},
   "outputs": [],
   "source": [
    "data.plot()"
   ]
  },
  {
   "cell_type": "code",
   "execution_count": null,
   "id": "5ff1073d-ef2c-4078-9a91-11679991b3f3",
   "metadata": {},
   "outputs": [],
   "source": [
    "data.coarsen(lat=5, lon=5, boundary=\"trim\").std()"
   ]
  },
  {
   "cell_type": "code",
   "execution_count": null,
   "id": "8db703ab-3c3f-4313-b104-4af0d116dd70",
   "metadata": {},
   "outputs": [],
   "source": [
    "(\n",
    "    data\n",
    "    .coarsen(lat=5, lon=5, boundary=\"trim\")\n",
    "    .mean()\n",
    "    .plot()\n",
    ")"
   ]
  },
  {
   "cell_type": "markdown",
   "id": "b30794c7-1aeb-4e13-b6b4-824f23ac07df",
   "metadata": {
    "slideshow": {
     "slide_type": "subslide"
    },
    "tags": []
   },
   "source": [
    "#### coarsen supports ``reduce`` for custom reductions\n",
    "\n",
    "**Exercise** Use ``coarsen.reduce`` to apply `np.mean` in 5x5 (latxlon) point blocks of `data`"
   ]
  },
  {
   "cell_type": "code",
   "execution_count": null,
   "id": "6d4ac102-3e5d-4bd1-b214-3e1826b6fd4e",
   "metadata": {},
   "outputs": [],
   "source": []
  },
  {
   "cell_type": "markdown",
   "id": "4f88d113-86d1-4158-b4e7-f54f98af3c0c",
   "metadata": {},
   "source": [
    "**Answer**"
   ]
  },
  {
   "cell_type": "code",
   "execution_count": null,
   "id": "446c773f-59e4-4b7a-86bd-fd7d40e223e6",
   "metadata": {
    "jupyter": {
     "source_hidden": true
    },
    "tags": []
   },
   "outputs": [],
   "source": [
    "(\n",
    "    data.coarsen(lat=5, lon=5, boundary=\"trim\")\n",
    "    .reduce(np.ptp)\n",
    "    .plot()\n",
    ")"
   ]
  },
  {
   "cell_type": "markdown",
   "id": "0e7cbd7b-da18-48a3-bd29-708d97cc3bb7",
   "metadata": {
    "slideshow": {
     "slide_type": "subslide"
    },
    "tags": []
   },
   "source": [
    "#### coarsen supports ``construct`` for block reshaping\n",
    "\n",
    "This is usually a good alternative to `np.reshape`\n",
    "\n",
    "A simple example splits a 2-year long monthly 1D time series into a 2D array shaped (year x month)"
   ]
  },
  {
   "cell_type": "code",
   "execution_count": null,
   "id": "acd8f398-b958-4cf7-8362-c8bd04e672c2",
   "metadata": {},
   "outputs": [],
   "source": [
    "months = xr.DataArray(np.tile(np.arange(1, 13), reps=2), dims=\"time\", coords={\"time\": np.arange(1,25)})\n",
    "months"
   ]
  },
  {
   "cell_type": "code",
   "execution_count": null,
   "id": "48f137b0-66d0-4e00-b242-b509b01820eb",
   "metadata": {},
   "outputs": [],
   "source": [
    "# break \"time\" into two new dimensions: \"year\", \"month\"\n",
    "months.coarsen(time=12).construct(time=(\"year\", \"month\"))"
   ]
  },
  {
   "cell_type": "markdown",
   "id": "5dc5c7e7-bc3c-4362-bbd1-6a05801b7c90",
   "metadata": {},
   "source": [
    "Note two things:\n",
    "1. The `time` dimension was also reshaped.\n",
    "1. The new dimensions `year` and `month` don't have any coordinate labels associated with them.\n",
    "\n",
    "\n",
    "What if the data had say 23 instead of 24 values? In that case we specify a different `boundary` , here we pad to 24 values."
   ]
  },
  {
   "cell_type": "code",
   "execution_count": null,
   "id": "083563d8-4f7a-471b-87af-718cc8c4b1f2",
   "metadata": {},
   "outputs": [],
   "source": [
    "months.isel(time=slice(1, None)).coarsen(time=12, boundary=\"pad\").construct(time=(\"year\", \"month\"))"
   ]
  },
  {
   "cell_type": "markdown",
   "id": "aca385db-e98d-45ab-b79a-7a71b356d483",
   "metadata": {},
   "source": [
    "This ends up adding values at the end of the array, not so sensible for this problem. To pad at the beginning we use [DataArray.pad](https://xarray.pydata.org/en/stable/generated/xarray.DataArray.pad.html)"
   ]
  },
  {
   "cell_type": "code",
   "execution_count": null,
   "id": "dc05f396-5c23-4ea0-a1db-926edb9f4baf",
   "metadata": {},
   "outputs": [],
   "source": [
    "(\n",
    "    months.isel(time=slice(1, None))\n",
    "    .pad(time=(1, 0), constant_values=-1)\n",
    "    .coarsen(time=12)\n",
    "    .construct(time=(\"year\", \"month\"))\n",
    ")"
   ]
  },
  {
   "cell_type": "markdown",
   "id": "db43eb72-fb9f-4d6a-aab3-4617c9c41ab1",
   "metadata": {},
   "source": [
    "**Exercise** Reshape the `time` dimension of the DataArray `monthly` to year x month and visualize the seasonal cycle for two years at 250°E"
   ]
  },
  {
   "cell_type": "markdown",
   "id": "b668514e-b40c-4c64-98bf-4579747ae6ab",
   "metadata": {},
   "source": [
    "**Answer**"
   ]
  },
  {
   "cell_type": "code",
   "execution_count": null,
   "id": "d01c6873-dc67-4d8b-928a-ad4f834429fa",
   "metadata": {
    "jupyter": {
     "source_hidden": true
    },
    "slideshow": {
     "slide_type": "subslide"
    },
    "tags": []
   },
   "outputs": [],
   "source": [
    "# splits time dimension into year x month\n",
    "year_month = monthly.coarsen(time=12).construct(time=(\"year\", \"month\"))\n",
    "\n",
    "# assign a nice coordinate value for month\n",
    "year_month[\"month\"] = [\"jan\", \"feb\", \"mar\", \"apr\", \"may\", \"jun\", \"jul\", \"aug\", \"sep\", \"oct\", \"nov\", \"dec\"]\n",
    "\n",
    "# assign a nice coordinate value for year\n",
    "year_month[\"year\"] = [2013, 2014]\n",
    "\n",
    "# seasonal cycle for two years\n",
    "year_month.sel(lon=250).plot.contourf(col=\"year\", x=\"month\", y=\"lat\")"
   ]
  },
  {
   "cell_type": "markdown",
   "id": "4de2984e-9c28-4ed7-909f-bab47b6eae49",
   "metadata": {},
   "source": [
    "This exercise came up during the live lecture. \n",
    "\n",
    "**Exercise** Calculate the rolling 4 month average, averaged across years.\n",
    "\n",
    "**Answer** \n",
    "1. We first reshape using `coarsen.construct` to add `year` as a new dimension.\n",
    "2. Then `rolling` on the month dimension.\n",
    "3. It turns out that `roll.mean([\"year\", \"month\"])` doesn't work. So we use `roll.construct` to get a DataArray with a new dimension `window` and then take the mean over `window` and `year`"
   ]
  },
  {
   "cell_type": "code",
   "execution_count": null,
   "id": "9d907b2b-c9c8-41cb-8af0-756d5c21ffef",
   "metadata": {},
   "outputs": [],
   "source": [
    "reshaped = months.coarsen(time=12).construct(time=(\"year\", \"month\"))\n",
    "roll = reshaped.rolling(month=4, center=True)\n",
    "roll.construct(\"window\").mean([\"window\", \"year\"])"
   ]
  },
  {
   "cell_type": "markdown",
   "id": "5574cc55-5d2c-47ee-9227-5db6ecde2fbf",
   "metadata": {},
   "source": [
    "### Index space summary\n",
    "\n",
    "Use `rolling` and `coarsen` for fixed size windowing operations.\n",
    "1. `rolling` for overlapping windows\n",
    "1. `coarsen` for non-overlapping windows.\n",
    "\n",
    "Both provide the usual reductions as methods (`.mean()` and friends), and also `reduce` and `construct` for custom operations."
   ]
  },
  {
   "cell_type": "markdown",
   "id": "25fd132c-5436-4af6-b8ad-75269cb45e75",
   "metadata": {
    "slideshow": {
     "slide_type": "slide"
    },
    "tags": []
   },
   "source": [
    "-----\n",
    "\n",
    "## Label space \"windows\" or bins : GroupBy\n",
    "\n",
    "Generalization of ``coarsen``: sometimes the windows you want are not regular.\n",
    "\n",
    "- ``groupby``: e.g. climatologies, composites; works when \"groups\" are exact: e.g. characters or integers; not floats\n",
    "- ``groupby_bins``: binning operations e.g. histograms\n",
    "- ``resample``: groupby but specialized for time grouping (so far)\n",
    "\n",
    "**tip** Both `groupby_bins` and `resample` are implemented as `GroupBy` with a specific way of constructing group labels.\n",
    "\n",
    "\n",
    "### Deconstructing GroupBy\n",
    "\n",
    "\n",
    "Commonly called \"split-apply-combine\". \n",
    "\n",
    "1. \"split\" : break dataset into groups\n",
    "1. \"apply\" : apply an operation, usually a reduction like `mean`\n",
    "1. \"combine\" : concatenate results from apply step along new \"group\" dimension\n",
    "\n",
    "But really there is a first step: \"identifying groups\" also called \"factorization\" (or \"binning\"). Usually this is the hard part.\n",
    "\n",
    "So \"identify groups\" → \"split into groups\" → \"apply function\" → \"combine results\".\n",
    "\n",
    "\n"
   ]
  },
  {
   "cell_type": "code",
   "execution_count": null,
   "id": "758d0816-e6fc-4d9b-92aa-3dd293b3c776",
   "metadata": {},
   "outputs": [],
   "source": [
    "da.groupby(\"time.month\")"
   ]
  },
  {
   "cell_type": "code",
   "execution_count": null,
   "id": "a8c8ea6b-721d-4afb-9787-5e143efbb614",
   "metadata": {},
   "outputs": [],
   "source": [
    "da.groupby(\"time.month\").mean()"
   ]
  },
  {
   "cell_type": "markdown",
   "id": "7a579539-1634-462c-b4d9-ea558fceadfb",
   "metadata": {},
   "source": [
    "This is how xarray identifies \"groups\" for the monthly climatology computation"
   ]
  },
  {
   "cell_type": "code",
   "execution_count": null,
   "id": "0380fb08-07ff-4aa7-9f97-5144bda372cc",
   "metadata": {},
   "outputs": [],
   "source": [
    "da.time.dt.month.plot()"
   ]
  },
  {
   "cell_type": "markdown",
   "id": "a6d21727-4c15-4f13-ae53-61d5f4944554",
   "metadata": {},
   "source": [
    "Similarly for binning, "
   ]
  },
  {
   "cell_type": "code",
   "execution_count": null,
   "id": "4fc6378d-aad3-4abb-ba1b-37842b83b7bd",
   "metadata": {},
   "outputs": [],
   "source": [
    "data.groupby_bins(\"lat\", bins=[20, 35, 40, 45, 50])"
   ]
  },
  {
   "cell_type": "markdown",
   "id": "fdfd6080-d844-41fe-8a2b-97d2b87df0b9",
   "metadata": {},
   "source": [
    "and resampling..."
   ]
  },
  {
   "cell_type": "code",
   "execution_count": null,
   "id": "e19a68fc-fa4d-4e86-b42b-2218204a5ece",
   "metadata": {},
   "outputs": [],
   "source": [
    "da.resample(time=\"M\")"
   ]
  },
  {
   "cell_type": "markdown",
   "id": "0b2de08d-0b7b-4725-80f3-c94d19d91669",
   "metadata": {
    "slideshow": {
     "slide_type": "subslide"
    },
    "tags": []
   },
   "source": [
    "### Constructing group labels\n",
    "\n",
    "Xarray uses `pandas.factorize` for `groupby` and `pandas.cut` for `groupby_bins`. \n",
    "\n",
    "If the automatic group detection doesn't work for your problem then these functions are useful for constructing \"group labels\" in many cases\n",
    "\n",
    "1. [numpy.digitize](https://numpy.org/doc/stable/reference/generated/numpy.digitize.html) (binning)\n",
    "1. [numpy.searchsorted](https://numpy.org/doc/stable/reference/generated/numpy.searchsorted.html) supports many other data types\n",
    "1. [pandas.factorize](https://pandas.pydata.org/pandas-docs/stable/reference/api/pandas.factorize.html) supports characters, strings etc.\n",
    "1. [pandas.cut](https://pandas.pydata.org/pandas-docs/stable/reference/api/pandas.cut.html) for binning\n",
    "1. [DataArray.isin](https://xarray.pydata.org/en/stable/generated/xarray.DataArray.isin.html)\n"
   ]
  },
  {
   "cell_type": "markdown",
   "id": "21be2221-a19a-4d8e-a80c-d3bb51b466b7",
   "metadata": {
    "slideshow": {
     "slide_type": "subslide"
    },
    "tags": []
   },
   "source": [
    "#### More commonly useful are [\"datetime components\"](https://xarray.pydata.org/en/stable/user-guide/time-series.html#datetime-components)\n",
    "\n",
    "See a full list [here](https://xarray.pydata.org/en/stable/generated/xarray.core.accessor_dt.DatetimeAccessor.html?highlight=DatetimeAccessor)\n",
    "\n",
    "Accessed using ``DataArray.dt.*``"
   ]
  },
  {
   "cell_type": "code",
   "execution_count": null,
   "id": "72e67cd4-adf5-4e51-8163-a59ad8f9d5dd",
   "metadata": {
    "tags": []
   },
   "outputs": [],
   "source": [
    "da.time"
   ]
  },
  {
   "cell_type": "code",
   "execution_count": null,
   "id": "99c6a0df-ac18-47d4-98f0-b99189991950",
   "metadata": {},
   "outputs": [],
   "source": [
    "da.time.dt.day"
   ]
  },
  {
   "cell_type": "code",
   "execution_count": null,
   "id": "9c30397a-38b8-44a6-86fe-d32f99099b31",
   "metadata": {},
   "outputs": [],
   "source": [
    "da[\"time.day\"]"
   ]
  },
  {
   "cell_type": "code",
   "execution_count": null,
   "id": "7a7818a7-ccc6-4696-b27c-e905879bd9b8",
   "metadata": {},
   "outputs": [],
   "source": [
    "da.time.dt.season"
   ]
  },
  {
   "cell_type": "markdown",
   "id": "db7bd7e6-59cd-4b2a-ac37-2ff4d40d9fc8",
   "metadata": {},
   "source": [
    "**Demo** Grouping over a custom definition of seasons using numpy.isin.\n",
    "\n",
    "We want to group over 4 seasons: `DJF`, `MAM`, `JJAS`, `ON` - this makes physical sense in the Indian Ocean basin\n",
    "\n",
    "Start by extracting months."
   ]
  },
  {
   "cell_type": "code",
   "execution_count": null,
   "id": "00e9cef3-9484-4ca2-8da4-b5fb9b1dcebc",
   "metadata": {},
   "outputs": [],
   "source": [
    "month = da.time.dt.month.data\n",
    "month"
   ]
  },
  {
   "cell_type": "markdown",
   "id": "9dfcf050-6cc0-4138-94e4-e0eb7d57c0b1",
   "metadata": {},
   "source": [
    "Create a new empty array"
   ]
  },
  {
   "cell_type": "code",
   "execution_count": null,
   "id": "c19ca548-daf4-4419-8dc5-7a6c723c4ec4",
   "metadata": {},
   "outputs": [],
   "source": [
    "season = np.full(month.shape, \"    \")\n",
    "season"
   ]
  },
  {
   "cell_type": "markdown",
   "id": "baaa88a5-d375-4386-bfbd-2c0471a30b86",
   "metadata": {},
   "source": [
    "Use `isin` to assign custom seasons,"
   ]
  },
  {
   "cell_type": "code",
   "execution_count": null,
   "id": "25f860b3-566c-417e-b717-372dff3a60fe",
   "metadata": {},
   "outputs": [],
   "source": [
    "season[np.isin(month, [12, 1, 2])] = \"DJF\"\n",
    "season[np.isin(month, [3, 4, 5])] = \"MAM\"\n",
    "season[np.isin(month, [6, 7, 8, 9])] = \"JJAS\"\n",
    "season[np.isin(month, [10, 11])] = \"ON\"\n",
    "season = da.time.copy(data=season)\n",
    "season"
   ]
  },
  {
   "cell_type": "code",
   "execution_count": null,
   "id": "33cf5d2f-ba61-4bb8-8e90-9777bf6bf3f3",
   "metadata": {},
   "outputs": [],
   "source": [
    "(\n",
    "    # Calculate climatology\n",
    "    da.groupby(season).mean()\n",
    "    # reindex to get seasons in logical order (not alphabetical order)\n",
    "    .reindex(time=[\"DJF\", \"MAM\", \"JJAS\", \"ON\"])\n",
    "    .plot(col=\"time\")\n",
    ")"
   ]
  },
  {
   "cell_type": "markdown",
   "id": "7f3097b9-987f-4f9b-9c82-d5c6e879a862",
   "metadata": {
    "slideshow": {
     "slide_type": "subslide"
    },
    "tags": []
   },
   "source": [
    "#### `floor`, `ceil` and `round` time\n",
    "\n",
    "Basically \"resampling\""
   ]
  },
  {
   "cell_type": "code",
   "execution_count": null,
   "id": "b8263961-faed-43f5-8d67-d578d6163e35",
   "metadata": {},
   "outputs": [],
   "source": [
    "da.time"
   ]
  },
  {
   "cell_type": "code",
   "execution_count": null,
   "id": "0874688b-12c0-4353-9489-879f116c7473",
   "metadata": {},
   "outputs": [],
   "source": [
    "# remove roundoff error in timestamps\n",
    "# floor to daily frequency\n",
    "da.time.dt.floor(\"D\")"
   ]
  },
  {
   "cell_type": "markdown",
   "id": "5edb1818-6d4e-417b-af79-1cd6c9c04122",
   "metadata": {
    "slideshow": {
     "slide_type": "subslide"
    },
    "tags": []
   },
   "source": [
    "#### `strftime` can be extremely useful\n",
    "\n",
    "So useful and so unintuitive that it has its own website: https://strftime.org/\n",
    "\n",
    "This example avoids merging \"Feb-29\" and \"Mar-01\" for a daily climatology"
   ]
  },
  {
   "cell_type": "code",
   "execution_count": null,
   "id": "04e8eb13-2536-404c-ad85-36eae53f458b",
   "metadata": {},
   "outputs": [],
   "source": [
    "da.time.dt.strftime(\"%b-%d\")"
   ]
  },
  {
   "cell_type": "markdown",
   "id": "b5724cbb-dd2a-4dc5-9118-7c7dd294755f",
   "metadata": {
    "tags": []
   },
   "source": [
    "### groupby supports `reduce` for custom reductions\n",
    "\n",
    "This applies to `groupby_bins` and `resample`"
   ]
  },
  {
   "cell_type": "code",
   "execution_count": null,
   "id": "4fa2442b-ef05-4cff-b83f-938159ab7756",
   "metadata": {},
   "outputs": [],
   "source": [
    "(\n",
    "    da.groupby(\"time.month\")\n",
    "    .reduce(np.mean)\n",
    "    .plot(col=\"month\", col_wrap=4)\n",
    ")"
   ]
  },
  {
   "cell_type": "markdown",
   "id": "7cd7ede5-8e57-4099-ab39-b9d75427f125",
   "metadata": {},
   "source": [
    "**tip** `map` is for functions that expect and return xarray objects (see also ``Dataset.map``). `reduce` is for functions that expect and return plain arrays (like numpy or scipy functions)"
   ]
  },
  {
   "cell_type": "markdown",
   "id": "ed904da0-fb85-4432-8083-ef644209affd",
   "metadata": {
    "tags": []
   },
   "source": [
    "### GroupBy does not provide construct\n",
    "\n",
    "All the groups need not be the same \"length\" (e.g. months can have 28, 29, 30, or 31 days)\n",
    "\n",
    "### Instead looping over groupby objects is possible\n",
    "\n",
    "Maybe you want to plot data in each group separately?"
   ]
  },
  {
   "cell_type": "code",
   "execution_count": null,
   "id": "2997b547-3f8a-4c08-878e-e3b72be95b95",
   "metadata": {},
   "outputs": [],
   "source": [
    "for label, group in da.groupby(\"time.month\"):\n",
    "    print(label)"
   ]
  },
  {
   "cell_type": "markdown",
   "id": "8017d842-ff79-47ec-928d-43e3cf4e7b66",
   "metadata": {},
   "source": [
    "This is a DataArray contain data for all December days"
   ]
  },
  {
   "cell_type": "code",
   "execution_count": null,
   "id": "ea975415-d8c1-4216-b6e3-9c0c8eb25d6b",
   "metadata": {
    "tags": []
   },
   "outputs": [],
   "source": [
    "group"
   ]
  },
  {
   "cell_type": "markdown",
   "id": "1c0cad35-225b-4622-a978-6113a9ca1d88",
   "metadata": {},
   "source": [
    "Maybe you want a histogram of December temperatures?"
   ]
  },
  {
   "cell_type": "code",
   "execution_count": null,
   "id": "e17ef02d-dae1-475b-a29b-595f910fab9c",
   "metadata": {},
   "outputs": [],
   "source": [
    "group.plot.hist()"
   ]
  },
  {
   "cell_type": "markdown",
   "id": "32dfe5fd-0e8f-4b69-a3c1-03f73c484b6b",
   "metadata": {
    "tags": []
   },
   "source": [
    "### In most cases, avoid a for loop using ``map``\n",
    "\n",
    "Apply functions that expect xarray Datasets or DataArrays.\n",
    "\n",
    "Avoid having to manually combine results using concat"
   ]
  },
  {
   "cell_type": "code",
   "execution_count": null,
   "id": "ffeb4b59-1eaf-4c39-bac5-11646069ea29",
   "metadata": {
    "tags": []
   },
   "outputs": [],
   "source": [
    "def iqr(da, dim):\n",
    "    \"\"\" Calculates interquartile range \"\"\"\n",
    "    return (da.quantile(q=0.75, dim=dim) - da.quantile(q=0.25, dim=dim)).rename(\"iqr\")\n",
    "\n",
    "\n",
    "da.groupby(\"time.month\").map(iqr, dim=\"time\")"
   ]
  },
  {
   "cell_type": "markdown",
   "id": "3122e22a-77f0-402f-baf6-111821973250",
   "metadata": {},
   "source": [
    "---"
   ]
  },
  {
   "cell_type": "markdown",
   "id": "a37ec2e3-24a0-4306-abe0-a6c04933bd88",
   "metadata": {},
   "source": [
    "## Summary\n",
    "\n",
    "Xarray provides methods for high-level analysis patterns:\n",
    "1. `rolling` :\n",
    "   [Operate on rolling windows of your data e.g. running mean](https://xarray.pydata.org/en/stable/computation.html#rolling-window-operations)\n",
    "1. `coarsen` :\n",
    "   [Downsample your data](https://xarray.pydata.org/en/stable/computation.html#coarsen-large-arrays)\n",
    "1. `groupby` :\n",
    "   [Bin data in to groups and reduce](https://xarray.pydata.org/en/stable/groupby.html)\n",
    "1. `groupby_bins`: GroupBy after discretizing a numeric variable.\n",
    "1. `resample` :\n",
    "   [Groupby specialized for time axes. Either downsample or upsample your data.](https://xarray.pydata.org/en/stable/time-series.html#resampling-and-grouped-operations)\n",
    "1. `weighted` :\n",
    "   [Weight your data before reducing](https://xarray.pydata.org/en/stable/computation.html#weighted-array-reductions)\n",
    "\n",
    "\n",
    "## More resources\n",
    "\n",
    "1. More tutorials here:https://xarray-contrib.github.io/xarray-tutorial/\n",
    "1. Answers to common questions on \"how to do X\" are here: https://xarray.pydata.org/en/stable/howdoi.html"
   ]
  }
 ],
 "metadata": {
  "kernelspec": {
   "display_name": "Python [conda env:thinking-with-xarray_2022_03_09]",
   "language": "python",
   "name": "conda-env-thinking-with-xarray_2022_03_09-py"
  },
  "language_info": {
   "codemirror_mode": {
    "name": "ipython",
    "version": 3
   },
   "file_extension": ".py",
   "mimetype": "text/x-python",
   "name": "python",
   "nbconvert_exporter": "python",
   "pygments_lexer": "ipython3",
   "version": "3.10.2"
  },
  "widgets": {
   "application/vnd.jupyter.widget-state+json": {
    "state": {},
    "version_major": 2,
    "version_minor": 0
   }
  }
 },
 "nbformat": 4,
 "nbformat_minor": 5
}

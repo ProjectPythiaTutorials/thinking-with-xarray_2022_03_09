{
 "cells": [
  {
   "cell_type": "markdown",
   "id": "a349a0a5-eeb3-410a-b5d1-f472a8ca14b2",
   "metadata": {
    "slideshow": {
     "slide_type": "slide"
    },
    "tags": []
   },
   "source": [
    "# Thinking like Xarray : High-level computational patterns\n",
    "\n",
    "**Deepak Cherian, CGD**\n",
    "\n",
    "March 9, 2022\n",
    "\n",
    "-----"
   ]
  },
  {
   "cell_type": "markdown",
   "id": "623d5170-f32d-4643-9a59-c54768ee7185",
   "metadata": {
    "slideshow": {
     "slide_type": "slide"
    },
    "tags": []
   },
   "source": [
    "## Motivation / Learning goals\n",
    "\n",
    "From https://toolz.readthedocs.io/en/latest/control.html\n",
    "> The Toolz library contains dozens of patterns like map and groupby. Learning a core set (maybe a dozen) covers the vast majority of common programming tasks often done by hand.\n",
    "> A rich vocabulary of core control functions conveys the following benefits:\n",
    ">    - You identify new patterns\n",
    ">    - You make fewer errors in rote coding\n",
    ">    - You can depend on well tested and benchmarked implementations\n",
    "\n",
    "\n",
    "The same is true for xarray"
   ]
  },
  {
   "cell_type": "markdown",
   "id": "5f0cda65-cfaa-42ed-bd4d-f290c1e98bb3",
   "metadata": {
    "slideshow": {
     "slide_type": "subslide"
    },
    "tags": []
   },
   "source": [
    "## Xarray's high-level patterns\n",
    "\n",
    "\n",
    "Xarray allows you to leverage dataset metadata to write more readable analysis code. The metadata is stored with the data; not in your head.\n",
    "1. Dimension names: `dim=\"latitude\"` instead of `axis=0`\n",
    "2. Coordinate \"labels\": or axis tick labels. `data.sel(latitude=45)` instead of `data[10]`\n",
    "\n",
    "\n",
    "Xarray also provides high-level computational patterns that cover many data analysis tasks.\n",
    "\n",
    "1. `rolling` :\n",
    "   [Operate on rolling windows of your data e.g. running mean](https://xarray.pydata.org/en/stable/computation.html#rolling-window-operations)\n",
    "1. `coarsen` :\n",
    "   [Downsample your data](https://xarray.pydata.org/en/stable/computation.html#coarsen-large-arrays)\n",
    "1. `groupby` :\n",
    "   [Bin data in to groups and reduce](https://xarray.pydata.org/en/stable/groupby.html)\n",
    "1. `groupby_bins`: GroupBy after discretizing a numeric variable.\n",
    "1. `resample` :\n",
    "   [Groupby specialized for time axes. Either downsample or upsample your data.](https://xarray.pydata.org/en/stable/time-series.html#resampling-and-grouped-operations)\n",
    "1. `weighted` :\n",
    "   [Weight your data before reducing](https://xarray.pydata.org/en/stable/computation.html#weighted-array-reductions)\n"
   ]
  },
  {
   "cell_type": "markdown",
   "id": "71d8581c-1ffb-47a0-b992-12c3997f3586",
   "metadata": {
    "slideshow": {
     "slide_type": "slide"
    },
    "tags": []
   },
   "source": [
    "## Load example dataset"
   ]
  },
  {
   "cell_type": "code",
   "execution_count": null,
   "id": "02a9022f-1503-45a2-b57a-05ebfeb11d16",
   "metadata": {},
   "outputs": [],
   "source": [
    "import numpy as np\n",
    "import xarray as xr\n",
    "\n",
    "xr.set_options(keep_attrs=True)\n",
    "\n",
    "da = xr.tutorial.load_dataset(\"air_temperature\", engine=\"netcdf4\").air\n",
    "monthly = da.resample(time=\"M\").mean()\n",
    "data = da.isel(time=0)\n",
    "data.plot()"
   ]
  },
  {
   "cell_type": "markdown",
   "id": "90832354-d0f3-4d83-a979-23b685203d3e",
   "metadata": {
    "slideshow": {
     "slide_type": "slide"
    },
    "tags": []
   },
   "source": [
    "## Concept: \"index space\" vs \"label space\"\n",
    "\n",
    "\n",
    "These are windowed operations with a window of a fixed size.\n",
    "\n",
    "- ``rolling``: sliding window operations e.g. running mean\n",
    "- ``coarsen``: decimating; reshaping"
   ]
  },
  {
   "cell_type": "code",
   "execution_count": null,
   "id": "480771d1-be88-46b9-8fd7-e516109c7720",
   "metadata": {},
   "outputs": [],
   "source": [
    "data"
   ]
  },
  {
   "cell_type": "code",
   "execution_count": null,
   "id": "b3558ce1-0223-48a9-9620-fdcfc47fa73d",
   "metadata": {
    "tags": []
   },
   "outputs": [],
   "source": [
    "# index space\n",
    "data[10, :]  # 10th element along the first axis; ¯\\_(ツ)_/¯\n",
    "\n",
    "# index space\n",
    "data.isel(lat=10)  # slightly better, 10th element in latitude\n",
    "\n",
    "# \"label\" space\n",
    "data.sel(lat=50)  # much better! lat=50°N"
   ]
  },
  {
   "cell_type": "code",
   "execution_count": null,
   "id": "843985f3-4271-4f82-8ede-92624cd912aa",
   "metadata": {
    "slideshow": {
     "slide_type": "subslide"
    },
    "tags": []
   },
   "outputs": [],
   "source": [
    "# What I wanted to do\n",
    "data.sel(lat=50)\n",
    "\n",
    "# What I had to do (if I wasn't using xarray)\n",
    "data[10, :]"
   ]
  },
  {
   "cell_type": "markdown",
   "id": "e9b80381-8a0d-4833-97fa-687bf693ca5a",
   "metadata": {},
   "source": [
    "## Xarray provides high-level patterns in both \"index space\" and  \"label space\"\n",
    "\n",
    "#### Index space\n",
    "1. `rolling` :\n",
    "   [Operate on rolling windows of your data e.g. running mean](https://xarray.pydata.org/en/stable/computation.html#rolling-window-operations)\n",
    "1. `coarsen` :\n",
    "   [Downsample your data](https://xarray.pydata.org/en/stable/computation.html#coarsen-large-arrays)\n",
    "   \n",
    "#### Label space\n",
    "1. `groupby` :\n",
    "   [Bin data in to groups and reduce](https://xarray.pydata.org/en/stable/groupby.html)\n",
    "1. `groupby_bins`: GroupBy after discretizing a numeric variable.\n",
    "1. `resample` :\n",
    "   [Groupby specialized for time axes. Either downsample or upsample your data.](https://xarray.pydata.org/en/stable/time-series.html#resampling-and-grouped-operations)"
   ]
  },
  {
   "cell_type": "markdown",
   "id": "339bdf89-c7da-4fca-89e1-a6655e65a6a3",
   "metadata": {
    "slideshow": {
     "slide_type": "subslide"
    },
    "tags": []
   },
   "source": [
    "## Index space: windows of fixed width\n",
    "\n",
    "\n",
    "### Sliding windows of fixed length: ``rolling``\n",
    "\n",
    "- returns object of same shape as input\n",
    "- pads with NaNs to make this happen\n",
    "- supports multiple dimensions"
   ]
  },
  {
   "cell_type": "code",
   "execution_count": null,
   "id": "6bb40a90-ddcb-48f1-bc3f-3cfef18ed1eb",
   "metadata": {},
   "outputs": [],
   "source": [
    "data.rolling(lat=5, lon=5, center=True).mean().plot()"
   ]
  },
  {
   "cell_type": "markdown",
   "id": "b88c116e-ad63-4fea-81a7-bcabc194dee5",
   "metadata": {
    "slideshow": {
     "slide_type": "subslide"
    },
    "tags": []
   },
   "source": [
    "#### Apply an existing numpy-only function with ``reduce``\n",
    "\n",
    "Here's an example function: `np.ptp`"
   ]
  },
  {
   "cell_type": "code",
   "execution_count": null,
   "id": "3cdfdae1-7202-4403-8500-1195153d823b",
   "metadata": {
    "tags": []
   },
   "outputs": [],
   "source": [
    "np.ptp?"
   ]
  },
  {
   "cell_type": "markdown",
   "id": "9ef251aa-ce3c-4318-95ba-470568ebd967",
   "metadata": {},
   "source": [
    "**Exercise** Calculate the rolling peak-to-peak amplitude in 5 point bins along both latitude and longitude"
   ]
  },
  {
   "cell_type": "code",
   "execution_count": null,
   "id": "dc07db2f-31b0-4dfb-bbcc-6a33f8088884",
   "metadata": {},
   "outputs": [],
   "source": []
  },
  {
   "cell_type": "markdown",
   "id": "75397b3d-5961-4924-b688-23520b79aae8",
   "metadata": {},
   "source": [
    "Answer:"
   ]
  },
  {
   "cell_type": "code",
   "execution_count": null,
   "id": "a36cbf94-ed41-42c6-8ccf-9278927d395b",
   "metadata": {
    "jupyter": {
     "source_hidden": true
    },
    "slideshow": {
     "slide_type": "subslide"
    },
    "tags": []
   },
   "outputs": [],
   "source": [
    "data.rolling(lat=5, lon=5, center=True).reduce(np.ptp).plot()"
   ]
  },
  {
   "cell_type": "markdown",
   "id": "d0155b62-d08f-42c6-b467-1af73a7829c0",
   "metadata": {
    "slideshow": {
     "slide_type": "subslide"
    },
    "tags": []
   },
   "source": [
    "#### For more complicated analysis, construct a new array with a new dimension.\n",
    "Allows things like short-time fourier transform, spectrogram, windowed rolling etc."
   ]
  },
  {
   "cell_type": "code",
   "execution_count": null,
   "id": "580ba2d9-1bb6-4e63-962d-eddbfc1fffc5",
   "metadata": {},
   "outputs": [],
   "source": [
    "simple = xr.DataArray(np.arange(10), dims=\"time\", coords={\"time\": np.arange(10)})\n",
    "\n",
    "# adds a new dimension \"window\"\n",
    "simple.rolling(time=5, center=True).construct(\"window\")"
   ]
  },
  {
   "cell_type": "markdown",
   "id": "c81f95b1-e1c3-4b28-8b7f-9519c9316e3f",
   "metadata": {},
   "source": [
    "``construct`` is clever. It constructs a **view** of the original array, so it is memory-efficient. but you didn't have to know that"
   ]
  },
  {
   "cell_type": "markdown",
   "id": "0a23b9a9-076b-472d-b7a6-57083566a32d",
   "metadata": {},
   "source": [
    "**Exercise** Calculate the 5 point running mean in time using `rolling.construct`"
   ]
  },
  {
   "cell_type": "code",
   "execution_count": null,
   "id": "4a041b0a-d070-4177-a15e-276d87f81d0b",
   "metadata": {},
   "outputs": [],
   "source": []
  },
  {
   "cell_type": "markdown",
   "id": "fcd19bd6-0564-4b0e-b3cb-b5c31f88b4da",
   "metadata": {},
   "source": [
    "Answer"
   ]
  },
  {
   "cell_type": "code",
   "execution_count": null,
   "id": "80c80728-440a-43d9-957c-65bf111e710d",
   "metadata": {
    "jupyter": {
     "source_hidden": true
    },
    "tags": []
   },
   "outputs": [],
   "source": [
    "(\n",
    "    simple\n",
    "    .rolling(time=5, center=True)\n",
    "    .construct(\"window\")\n",
    "    .mean(\"window\")\n",
    ")"
   ]
  },
  {
   "cell_type": "markdown",
   "id": "816929d5-6635-4e93-99fc-79b5729c5491",
   "metadata": {},
   "source": [
    "#### Another ``construct`` example\n",
    "\n",
    "This is a 2D rolling example; we need to provide two new dimension names"
   ]
  },
  {
   "cell_type": "code",
   "execution_count": null,
   "id": "4cbdafe1-adf4-4c80-97ed-50e4b35033af",
   "metadata": {},
   "outputs": [],
   "source": [
    "(\n",
    "    data\n",
    "    .rolling(lat=5, lon=5, center=True)\n",
    "    .construct(lat=\"lat_roll\", lon=\"lon_roll\")\n",
    ")"
   ]
  },
  {
   "cell_type": "markdown",
   "id": "f75d2a5f-31d0-4943-b70a-06e7c8a30601",
   "metadata": {
    "slideshow": {
     "slide_type": "subslide"
    },
    "tags": []
   },
   "source": [
    "### Block windows of fixed length: ``coarsen``\n",
    "\n",
    "For non-overlapping windows or \"blocks\" use ``coarsen``. The syntax is very similar to `rolling`. You will need to specify ``boundary`` if the length of the dimension is not a multiple of the block size"
   ]
  },
  {
   "cell_type": "code",
   "execution_count": null,
   "id": "8db703ab-3c3f-4313-b104-4af0d116dd70",
   "metadata": {},
   "outputs": [],
   "source": [
    "(\n",
    "    data\n",
    "    .coarsen(lat=5, lon=5, boundary=\"trim\")\n",
    "    .mean()\n",
    "    .plot()\n",
    ")"
   ]
  },
  {
   "cell_type": "markdown",
   "id": "b30794c7-1aeb-4e13-b6b4-824f23ac07df",
   "metadata": {
    "slideshow": {
     "slide_type": "subslide"
    },
    "tags": []
   },
   "source": [
    "#### coarsen supports ``reduce`` for custom reductions\n",
    "\n",
    "**Exercise** Use ``coarsen.reduce`` to apply `np.ptp` in 5x5 (latxlon) point blocks of `data`"
   ]
  },
  {
   "cell_type": "code",
   "execution_count": null,
   "id": "6d4ac102-3e5d-4bd1-b214-3e1826b6fd4e",
   "metadata": {},
   "outputs": [],
   "source": []
  },
  {
   "cell_type": "markdown",
   "id": "4f88d113-86d1-4158-b4e7-f54f98af3c0c",
   "metadata": {},
   "source": [
    "Answer"
   ]
  },
  {
   "cell_type": "code",
   "execution_count": null,
   "id": "446c773f-59e4-4b7a-86bd-fd7d40e223e6",
   "metadata": {
    "jupyter": {
     "source_hidden": true
    },
    "tags": []
   },
   "outputs": [],
   "source": [
    "(\n",
    "    data.coarsen(lat=5, lon=5, boundary=\"trim\")\n",
    "    .reduce(np.ptp)\n",
    "    .plot()\n",
    ")"
   ]
  },
  {
   "cell_type": "markdown",
   "id": "0e7cbd7b-da18-48a3-bd29-708d97cc3bb7",
   "metadata": {
    "slideshow": {
     "slide_type": "subslide"
    },
    "tags": []
   },
   "source": [
    "#### coarsen supports ``construct`` for block reshaping\n",
    "\n",
    "This is usually a good alternative to `np.reshape`\n",
    "\n",
    "A simple example"
   ]
  },
  {
   "cell_type": "code",
   "execution_count": null,
   "id": "acd8f398-b958-4cf7-8362-c8bd04e672c2",
   "metadata": {},
   "outputs": [],
   "source": [
    "months = xr.DataArray(np.tile(np.arange(1, 13), reps=2), dims=\"time\", coords={\"time\": np.arange(1,25)})\n",
    "months"
   ]
  },
  {
   "cell_type": "code",
   "execution_count": null,
   "id": "48f137b0-66d0-4e00-b242-b509b01820eb",
   "metadata": {},
   "outputs": [],
   "source": [
    "months.coarsen(time=12).construct(time=(\"year\", \"month\"))"
   ]
  },
  {
   "cell_type": "markdown",
   "id": "5dc5c7e7-bc3c-4362-bbd1-6a05801b7c90",
   "metadata": {},
   "source": [
    "Note two things:\n",
    "1. The `time` dimension was also reshaped.\n",
    "1. The new dimensions `year` and `month` don't have any coordinate labels associated with them.\n",
    "\n",
    "**Exercise** Reshape the `time` dimension of `monthly` to year x month and visualize the seasonal cycle for two years at 250°E"
   ]
  },
  {
   "cell_type": "code",
   "execution_count": null,
   "id": "5d58a9e6-f623-4667-a5bf-525fcfe413a2",
   "metadata": {},
   "outputs": [],
   "source": []
  },
  {
   "cell_type": "markdown",
   "id": "b668514e-b40c-4c64-98bf-4579747ae6ab",
   "metadata": {},
   "source": [
    "Answer"
   ]
  },
  {
   "cell_type": "code",
   "execution_count": null,
   "id": "de2be86e-b7c0-4f15-8ecb-03d5638b50d2",
   "metadata": {
    "jupyter": {
     "source_hidden": true
    },
    "slideshow": {
     "slide_type": "subslide"
    },
    "tags": []
   },
   "outputs": [],
   "source": [
    "# splits time dimension into year x month\n",
    "year_month = monthly.coarsen(time=12).construct(time=(\"year\", \"month\"))\n",
    "year_month[\"year\"] = np.unique(monthly.time.dt.year)\n",
    "# seasonal cycle for two years\n",
    "year_month.sel(lon=250).plot.contourf(col=\"year\", x=\"month\", y=\"lat\", robust=True)"
   ]
  },
  {
   "cell_type": "markdown",
   "id": "25fd132c-5436-4af6-b8ad-75269cb45e75",
   "metadata": {
    "slideshow": {
     "slide_type": "slide"
    },
    "tags": []
   },
   "source": [
    "## Label space \"windows\" or bins : GroupBy\n",
    "\n",
    "Generalization of ``coarsen``: sometimes the windows you want are not regular.\n",
    "\n",
    "- ``groupby``: e.g. climatologies, composites; works when \"groups\" are exact: e.g. characters or integers; not floats\n",
    "- ``groupby_bins``: binning operations e.g. histograms\n",
    "- ``resample``: groupby but specialized for time grouping (so far)\n",
    "\n",
    "**tip** Both `groupby_bins` and `resample` are implemented as `GroupBy` with a specific way of constructing group labels.\n",
    "\n",
    "\n",
    "### Deconstructing GroupBy\n",
    "\n",
    "\n",
    "Commonly called \"split-apply-combine\". \n",
    "\n",
    "1. \"split\" : break dataset into groups\n",
    "1. \"apply\" : apply an operation, usually a reduction like `mean`\n",
    "1. \"combine\" : concatenate results from apply step along new \"group\" dimension\n",
    "\n",
    "But really there is a first step: \"identifying groups\" also called \"factorization\". Usually this is the hard part\n",
    "\n",
    "\n"
   ]
  },
  {
   "cell_type": "markdown",
   "id": "0b2de08d-0b7b-4725-80f3-c94d19d91669",
   "metadata": {
    "slideshow": {
     "slide_type": "subslide"
    },
    "tags": []
   },
   "source": [
    "### Constructing group labels\n",
    "\n",
    "These functions are useful for constructing \"group labels\" in many cases\n",
    "\n",
    "1. [``numpy.digitize``](https://numpy.org/doc/stable/reference/generated/numpy.digitize.html) (binning)\n",
    "1. [``numpy.searchsorted``](https://numpy.org/doc/stable/reference/generated/numpy.searchsorted.html) supports many other data types\n",
    "1. [``pandas.factorize``](https://pandas.pydata.org/pandas-docs/stable/reference/api/pandas.factorize.html) supports characters, strings etc.\n",
    "1. [``pandas.cut``](https://pandas.pydata.org/pandas-docs/stable/reference/api/pandas.cut.html) for binning\n",
    "\n",
    "\n",
    "Xarray uses `pandas.factorize` for `groupby` and `pandas.cut` for `groupby_bins`"
   ]
  },
  {
   "cell_type": "markdown",
   "id": "21be2221-a19a-4d8e-a80c-d3bb51b466b7",
   "metadata": {
    "slideshow": {
     "slide_type": "subslide"
    },
    "tags": []
   },
   "source": [
    "#### More commonly useful are [\"datetime components\"](https://xarray.pydata.org/en/stable/user-guide/time-series.html#datetime-components)\n",
    "\n",
    "Accessed using ``DataArray.dt.*``"
   ]
  },
  {
   "cell_type": "code",
   "execution_count": null,
   "id": "99c6a0df-ac18-47d4-98f0-b99189991950",
   "metadata": {},
   "outputs": [],
   "source": [
    "da.time.dt.day"
   ]
  },
  {
   "cell_type": "code",
   "execution_count": null,
   "id": "bea150eb-3140-471e-9f5c-f49482ab0a22",
   "metadata": {},
   "outputs": [],
   "source": [
    "da.time.dt.month"
   ]
  },
  {
   "cell_type": "code",
   "execution_count": null,
   "id": "9c30397a-38b8-44a6-86fe-d32f99099b31",
   "metadata": {},
   "outputs": [],
   "source": [
    "da[\"time.month\"]"
   ]
  },
  {
   "cell_type": "markdown",
   "id": "7f3097b9-987f-4f9b-9c82-d5c6e879a862",
   "metadata": {
    "slideshow": {
     "slide_type": "subslide"
    },
    "tags": []
   },
   "source": [
    "#### `floor`, `ceil` and `round` time"
   ]
  },
  {
   "cell_type": "code",
   "execution_count": null,
   "id": "0874688b-12c0-4353-9489-879f116c7473",
   "metadata": {},
   "outputs": [],
   "source": [
    "# remove roundoff error in timestamps\n",
    "# floor to daily frequency\n",
    "da.time.dt.floor(\"D\")"
   ]
  },
  {
   "cell_type": "markdown",
   "id": "5edb1818-6d4e-417b-af79-1cd6c9c04122",
   "metadata": {
    "slideshow": {
     "slide_type": "subslide"
    },
    "tags": []
   },
   "source": [
    "#### `strftime` can be extremely useful\n",
    "\n",
    "So useful and so unintuitive that it has its own website: https://strftime.org/"
   ]
  },
  {
   "cell_type": "code",
   "execution_count": null,
   "id": "04e8eb13-2536-404c-ad85-36eae53f458b",
   "metadata": {},
   "outputs": [],
   "source": [
    "da.time.dt.strftime(\"%b-%d\")"
   ]
  },
  {
   "cell_type": "markdown",
   "id": "b8930ec1-d1d6-4937-bd9f-f320639a3ef1",
   "metadata": {
    "slideshow": {
     "slide_type": "subslide"
    },
    "tags": []
   },
   "source": [
    "### Simple Examples\n",
    "\n",
    "#### groupby"
   ]
  },
  {
   "cell_type": "code",
   "execution_count": null,
   "id": "fab31005-81a9-4067-b2f5-effdda72569b",
   "metadata": {},
   "outputs": [],
   "source": [
    "(\n",
    "    da.groupby(\"time.month\")\n",
    "    .mean()\n",
    "    .plot(col=\"month\", col_wrap=4)\n",
    ")"
   ]
  },
  {
   "cell_type": "markdown",
   "id": "ada91004-6231-4d72-8521-0bfd111a2a55",
   "metadata": {
    "slideshow": {
     "slide_type": "subslide"
    },
    "tags": []
   },
   "source": [
    "#### groupby_bins\n",
    "\n",
    "Like groupby but now the groups are bins. Useful for histogramming / grouping by `float` variables"
   ]
  },
  {
   "cell_type": "code",
   "execution_count": null,
   "id": "5cb9aa0c-5fc3-4bd6-898f-05ac8d7fac2d",
   "metadata": {},
   "outputs": [],
   "source": [
    "binned = data.groupby_bins(\"lat\", bins=[20, 35, 40, 45, 50])\n",
    "binned"
   ]
  },
  {
   "cell_type": "code",
   "execution_count": null,
   "id": "c6704690-7ba6-4b48-a786-2b6c6c1dd6e7",
   "metadata": {},
   "outputs": [],
   "source": [
    "binned.mean().plot.line(hue=\"lat_bins\")"
   ]
  },
  {
   "cell_type": "markdown",
   "id": "435819c7-a6cd-4b7f-8e01-5779fa23812d",
   "metadata": {
    "slideshow": {
     "slide_type": "subslide"
    },
    "tags": []
   },
   "source": [
    "#### resample\n",
    "\n",
    "groupby but specialized for time-grouping to a specified frequency\n",
    "\n",
    "Simple frequency strings are `\"D\"` for Day, `\"M\"` for MonthEnd , `\"A\"` for Annual etc.\n",
    "\n",
    "More complicated frequency strings are [available](https://pandas.pydata.org/pandas-docs/stable/user_guide/timeseries.html#offset-aliases), thanks to Pandas.\n",
    "\n",
    "All these work with CFTime and Datetime (so all calendars are supported)"
   ]
  },
  {
   "cell_type": "code",
   "execution_count": null,
   "id": "053ab67b-b7ac-4f22-b9f0-3f2b871e5984",
   "metadata": {},
   "outputs": [],
   "source": [
    "da.resample(time=\"M\").mean()"
   ]
  },
  {
   "cell_type": "markdown",
   "id": "ed904da0-fb85-4432-8083-ef644209affd",
   "metadata": {
    "tags": []
   },
   "source": [
    "### Looping over groupby objects is possible\n",
    "\n",
    "Maybe you want to plot data in each group separately?"
   ]
  },
  {
   "cell_type": "code",
   "execution_count": null,
   "id": "2997b547-3f8a-4c08-878e-e3b72be95b95",
   "metadata": {},
   "outputs": [],
   "source": [
    "for label, group in da.groupby(\"time.month\"):\n",
    "    print(label)"
   ]
  },
  {
   "cell_type": "markdown",
   "id": "8017d842-ff79-47ec-928d-43e3cf4e7b66",
   "metadata": {},
   "source": [
    "This is a DataArray contain data for all December days"
   ]
  },
  {
   "cell_type": "code",
   "execution_count": null,
   "id": "ea975415-d8c1-4216-b6e3-9c0c8eb25d6b",
   "metadata": {},
   "outputs": [],
   "source": [
    "group"
   ]
  },
  {
   "cell_type": "markdown",
   "id": "32dfe5fd-0e8f-4b69-a3c1-03f73c484b6b",
   "metadata": {
    "tags": []
   },
   "source": [
    "### In most cases, avoid a for loop using ``map``\n",
    "\n",
    "Apply functions that expect xarray Datasets or DataArrays.\n",
    "\n",
    "Avoid having to manually combine results using concat"
   ]
  },
  {
   "cell_type": "code",
   "execution_count": null,
   "id": "ffeb4b59-1eaf-4c39-bac5-11646069ea29",
   "metadata": {},
   "outputs": [],
   "source": [
    "def iqr(da):\n",
    "    \"\"\" Calculates interquartile range \"\"\"\n",
    "    return (da.quantile(q=0.75) - da.quantile(q=0.25)).rename(\"iqr\")\n",
    "\n",
    "\n",
    "da.groupby(\"time.month\").map(iqr)"
   ]
  },
  {
   "cell_type": "markdown",
   "id": "890cc644-ad01-4779-a725-9fedc8ac80cb",
   "metadata": {
    "tags": []
   },
   "source": [
    "### groupby supports `reduce` for custom reductions\n",
    "\n",
    "This applies to `groupby_bins` and `resample`"
   ]
  },
  {
   "cell_type": "code",
   "execution_count": null,
   "id": "4fa2442b-ef05-4cff-b83f-938159ab7756",
   "metadata": {},
   "outputs": [],
   "source": [
    "(\n",
    "    da.groupby(\"time.month\")\n",
    "    .reduce(np.ptp)\n",
    "    .plot(col=\"month\", col_wrap=4)\n",
    ")"
   ]
  },
  {
   "cell_type": "markdown",
   "id": "84a9c120-af83-4877-89de-b633e067e329",
   "metadata": {},
   "source": [
    "**tip** `map` is for functions that expect and return xarray objects (see also ``Dataset.map``). `reduce` is for functions that expect and return plain arrays (like numpy or scipy functions)"
   ]
  },
  {
   "cell_type": "markdown",
   "id": "3122e22a-77f0-402f-baf6-111821973250",
   "metadata": {},
   "source": [
    "---"
   ]
  },
  {
   "cell_type": "markdown",
   "id": "a37ec2e3-24a0-4306-abe0-a6c04933bd88",
   "metadata": {},
   "source": [
    "## Summary\n",
    "\n",
    "Xarray provides methods for high-level analysis patterns:\n",
    "1. `rolling` :\n",
    "   [Operate on rolling windows of your data e.g. running mean](https://xarray.pydata.org/en/stable/computation.html#rolling-window-operations)\n",
    "1. `coarsen` :\n",
    "   [Downsample your data](https://xarray.pydata.org/en/stable/computation.html#coarsen-large-arrays)\n",
    "1. `groupby` :\n",
    "   [Bin data in to groups and reduce](https://xarray.pydata.org/en/stable/groupby.html)\n",
    "1. `groupby_bins`: GroupBy after discretizing a numeric variable.\n",
    "1. `resample` :\n",
    "   [Groupby specialized for time axes. Either downsample or upsample your data.](https://xarray.pydata.org/en/stable/time-series.html#resampling-and-grouped-operations)\n",
    "1. `weighted` :\n",
    "   [Weight your data before reducing](https://xarray.pydata.org/en/stable/computation.html#weighted-array-reductions)\n",
    "\n",
    "\n",
    "## More resources\n",
    "\n",
    "1. More tutorials here:https://xarray-contrib.github.io/xarray-tutorial/\n",
    "1. Answers to common questions on \"how to do X\" are here: https://xarray.pydata.org/en/stable/howdoi.html"
   ]
  }
 ],
 "metadata": {
  "kernelspec": {
   "display_name": "Python [conda env:thinking-with-xarray_2022_03_09]",
   "language": "python",
   "name": "conda-env-thinking-with-xarray_2022_03_09-py"
  },
  "language_info": {
   "codemirror_mode": {
    "name": "ipython",
    "version": 3
   },
   "file_extension": ".py",
   "mimetype": "text/x-python",
   "name": "python",
   "nbconvert_exporter": "python",
   "pygments_lexer": "ipython3",
   "version": "3.10.2"
  },
  "widgets": {
   "application/vnd.jupyter.widget-state+json": {
    "state": {},
    "version_major": 2,
    "version_minor": 0
   }
  }
 },
 "nbformat": 4,
 "nbformat_minor": 5
}
